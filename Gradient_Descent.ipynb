{
  "nbformat": 4,
  "nbformat_minor": 0,
  "metadata": {
    "colab": {
      "name": "Gradient_Descent.ipynb",
      "provenance": [],
      "include_colab_link": true
    },
    "kernelspec": {
      "name": "python3",
      "display_name": "Python 3"
    }
  },
  "cells": [
    {
      "cell_type": "markdown",
      "metadata": {
        "id": "view-in-github",
        "colab_type": "text"
      },
      "source": [
        "<a href=\"https://colab.research.google.com/github/PraveenKasana/Colab_MachineLearning/blob/master/Gradient_Descent.ipynb\" target=\"_parent\"><img src=\"https://colab.research.google.com/assets/colab-badge.svg\" alt=\"Open In Colab\"/></a>"
      ]
    },
    {
      "cell_type": "markdown",
      "metadata": {
        "id": "7k6yXOHgb_6x",
        "colab_type": "text"
      },
      "source": [
        "## #**What is Gradient Descent in Machine Learning ?**"
      ]
    },
    {
      "cell_type": "markdown",
      "metadata": {
        "id": "sqM8pk_3j6Qf",
        "colab_type": "text"
      },
      "source": [
        "\n",
        "\n",
        "You need to be familiar about following before starting the Gradient \n",
        "\n",
        "\n",
        "1.   [Partial Derivative]\n",
        "\n",
        "$$\\frac{df}{dx}$$[Partial Derivative](https://www.khanacademy.org/math/multivariable-calculus/multivariable-derivatives/partial-derivative-and-gradient-articles/a/introduction-to-partial-derivatives)\n",
        "      Interpret dx, as \"a very tiny change in x\".\n",
        "\n",
        "      Interpret df, as \"a very tiny change in the output of f\", where it is      Derivative understood that this tiny change is whatever results from the tiny change dx, x to the input.\n",
        "\n",
        "      The reason for a new type of derivative is that when the input of a function is made up of multiple variables, we want to see how the function changes as we let just one of those variables change while holding all the others constant.\n",
        "\n",
        "2.   Vector\n",
        "\n",
        "    Vector is Magnitude + Direction.\n",
        "\n",
        "      [Vector](https://www.khanacademy.org/math/linear-algebra/vectors-and-spaces/vectors/v/vector-introduction-linear-algebra) \n",
        "\n",
        "**THE GRADIENT**\n",
        "\n",
        "The gradient stores all the partial derivative information of a multivariable function.\n",
        "\n",
        "The gradient of a scalar-valued multivariable function f(x, y) denoted by ∇f packages all its partial derivative information into a vector:\n",
        "\n",
        "[Gradient](https://www.khanacademy.org/math/multivariable-calculus/multivariable-derivatives/partial-derivative-and-gradient-articles/a/the-gradient)\n",
        "\n",
        "\n",
        "The gradient of a function f, denoted as ∇f, f, is the collection of all its partial derivatives into a vector.\n",
        "\n",
        "![Gradient Discent](https://cdn.kastatic.org/ka-perseus-images/841d347c7b6bf9a7ea4c31f6b6d9379a865105d0.svg)\n",
        "\n",
        "\n",
        "\n"
      ]
    },
    {
      "cell_type": "markdown",
      "metadata": {
        "id": "DIkCw1Hdj-hd",
        "colab_type": "text"
      },
      "source": [
        ""
      ]
    },
    {
      "cell_type": "markdown",
      "metadata": {
        "id": "GB2jhrEwmOBn",
        "colab_type": "text"
      },
      "source": [
        "Implementation of Gradient Descent - Using a  simple Program\n",
        "\n",
        "Points to be Noted : \n",
        "\n",
        "Y= f(x)\n",
        "Step size = learning Rate\n",
        "\n",
        "For example lets take very simple function y = (x-5)2\n",
        "\n",
        "x= x-LearningRate*Grad.\n",
        "\n",
        "x= x-LearningRate *  f'(x)\n",
        "\n",
        "Reach a point where loss rate is minimum.\n",
        "\n",
        "If your Learning Rate is high you might miss the Local Minima."
      ]
    },
    {
      "cell_type": "code",
      "metadata": {
        "id": "05yu8zDMugv7",
        "colab_type": "code",
        "colab": {}
      },
      "source": [
        "#Import Libraries\n",
        "import numpy as np\n",
        "import matplotlib.pyplot as plt\n",
        "\n"
      ],
      "execution_count": 0,
      "outputs": []
    },
    {
      "cell_type": "code",
      "metadata": {
        "id": "yZHv7OLWu9QG",
        "colab_type": "code",
        "outputId": "e53b44c5-baa6-479a-fb75-35fee9e29960",
        "colab": {
          "base_uri": "https://localhost:8080/",
          "height": 34
        }
      },
      "source": [
        "#Generate Some Data\n",
        "x = np.arange(10)\n",
        "print(x)\n"
      ],
      "execution_count": 0,
      "outputs": [
        {
          "output_type": "stream",
          "text": [
            "[0 1 2 3 4 5 6 7 8 9]\n"
          ],
          "name": "stdout"
        }
      ]
    },
    {
      "cell_type": "code",
      "metadata": {
        "id": "fdLjh48YvWf7",
        "colab_type": "code",
        "colab": {}
      },
      "source": [
        "#Loss Function\n",
        "def lossFn(x):\n",
        "  return (x-5)**2\n",
        "\n",
        "loss = lossFn(x)\n"
      ],
      "execution_count": 0,
      "outputs": []
    },
    {
      "cell_type": "code",
      "metadata": {
        "id": "ZuaUaxn2v4Lz",
        "colab_type": "code",
        "outputId": "8e699913-da84-47e1-95e5-c7a9e4b57d8e",
        "colab": {
          "base_uri": "https://localhost:8080/",
          "height": 347
        }
      },
      "source": [
        "#Plot Graph\n",
        "plt.style.use('seaborn')\n",
        "plt.plot(loss)\n",
        "plt.show()\n",
        "\n"
      ],
      "execution_count": 0,
      "outputs": [
        {
          "output_type": "display_data",
          "data": {
            "image/png": "[encoded data removed]",
            "text/plain": [
              "<Figure size 576x396 with 1 Axes>"
            ]
          },
          "metadata": {
            "tags": []
          }
        }
      ]
    },
    {
      "cell_type": "markdown",
      "metadata": {
        "id": "yFTheN2zBEM4",
        "colab_type": "text"
      },
      "source": [
        "#Function Gradeint Discent\n",
        "\n",
        "# Our function is y= (x-5) **2\n",
        "# Derivative of this function will = dy/dx = 2(x-5)\n",
        "# So X = X - Learning Rate * Gradient\n",
        "# So X= X - Learning rate * dy/dx"
      ]
    },
    {
      "cell_type": "code",
      "metadata": {
        "id": "5YqgnO9dwxnx",
        "colab_type": "code",
        "colab": {}
      },
      "source": [
        "#Function Gradeint Discent\n",
        "\n",
        "# Our function is y= (x-5) **2\n",
        "# Derivative of this function will = dy/dx = 2(x-5)\n",
        "# So X = X - Learning Rate * Gradient\n",
        "# So X= X - Learning rate * dy/dx\n",
        "\n",
        "def gradDescent():\n",
        "  x_ = 0 #any random value\n",
        "  learning_rate = 0.1\n",
        "  plt.plot(loss)\n",
        "  for i in range(25):\n",
        "    grad = 2*(x_-5)\n",
        "    x_ = x_ - learning_rate * grad\n",
        "    l = lossFn(x_)\n",
        "    print(\"x_ :%.3f loss: %.3f \"%(x_,l))\n",
        "    plt.scatter(x_,l)\n",
        "\n",
        "\n"
      ],
      "execution_count": 0,
      "outputs": []
    },
    {
      "cell_type": "code",
      "metadata": {
        "id": "bFkHxKfPzwf0",
        "colab_type": "code",
        "outputId": "a319eae3-15b3-4a14-ebb4-b0d6639b536d",
        "colab": {
          "base_uri": "https://localhost:8080/",
          "height": 772
        }
      },
      "source": [
        "gradDescent()"
      ],
      "execution_count": 0,
      "outputs": [
        {
          "output_type": "stream",
          "text": [
            "x_ :1.000 loss: 16.000 \n",
            "x_ :1.800 loss: 10.240 \n",
            "x_ :2.440 loss: 6.554 \n",
            "x_ :2.952 loss: 4.194 \n",
            "x_ :3.362 loss: 2.684 \n",
            "x_ :3.689 loss: 1.718 \n",
            "x_ :3.951 loss: 1.100 \n",
            "x_ :4.161 loss: 0.704 \n",
            "x_ :4.329 loss: 0.450 \n",
            "x_ :4.463 loss: 0.288 \n",
            "x_ :4.571 loss: 0.184 \n",
            "x_ :4.656 loss: 0.118 \n",
            "x_ :4.725 loss: 0.076 \n",
            "x_ :4.780 loss: 0.048 \n",
            "x_ :4.824 loss: 0.031 \n",
            "x_ :4.859 loss: 0.020 \n",
            "x_ :4.887 loss: 0.013 \n",
            "x_ :4.910 loss: 0.008 \n",
            "x_ :4.928 loss: 0.005 \n",
            "x_ :4.942 loss: 0.003 \n",
            "x_ :4.954 loss: 0.002 \n",
            "x_ :4.963 loss: 0.001 \n",
            "x_ :4.970 loss: 0.001 \n",
            "x_ :4.976 loss: 0.001 \n",
            "x_ :4.981 loss: 0.000 \n"
          ],
          "name": "stdout"
        },
        {
          "output_type": "display_data",
          "data": {
            "image/png": "[encoded data removed]",
            "text/plain": [
              "<Figure size 576x396 with 1 Axes>"
            ]
          },
          "metadata": {
            "tags": []
          }
        }
      ]
    },
    {
      "cell_type": "markdown",
      "metadata": {
        "id": "LJbbFwdjoGuV",
        "colab_type": "text"
      },
      "source": [
        "Important URLs\n",
        "\n",
        "https://www.oreilly.com/library/view/hands-on-machine-learning/9781491962282/ch04.html\n"
      ]
    }
  ]
}