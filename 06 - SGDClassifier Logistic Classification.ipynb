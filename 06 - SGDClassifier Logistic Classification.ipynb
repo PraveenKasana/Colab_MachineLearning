{
  "nbformat": 4,
  "nbformat_minor": 0,
  "metadata": {
    "kernelspec": {
      "display_name": "Python 3",
      "language": "python",
      "name": "python3"
    },
    "language_info": {
      "codemirror_mode": {
        "name": "ipython",
        "version": 3
      },
      "file_extension": ".py",
      "mimetype": "text/x-python",
      "name": "python",
      "nbconvert_exporter": "python",
      "pygments_lexer": "ipython3",
      "version": "3.7.4"
    },
    "colab": {
      "name": "06 - SGDClassifier Logistic Classification.ipynb",
      "provenance": []
    }
  },
  "cells": [
    {
      "cell_type": "markdown",
      "metadata": {
        "id": "jZlkUC4fwEKh",
        "colab_type": "text"
      },
      "source": [
        "# Using SGDClassifier"
      ]
    },
    {
      "cell_type": "code",
      "metadata": {
        "id": "aAsf50rfu5J4",
        "colab_type": "code",
        "colab": {}
      },
      "source": [
        "import numpy as np \n",
        "import pandas as pd \n",
        "import matplotlib.pyplot as plt\n",
        "from matplotlib.colors import ListedColormap\n",
        "from sklearn.datasets import make_circles\n",
        "from sklearn import linear_model\n",
        "from sklearn.preprocessing import StandardScaler\n",
        "from sklearn.metrics import accuracy_score\n",
        "\n",
        "\n"
      ],
      "execution_count": 0,
      "outputs": []
    },
    {
      "cell_type": "code",
      "metadata": {
        "id": "d35Faq2gu5J9",
        "colab_type": "code",
        "colab": {}
      },
      "source": [
        "X,Y=make_circles(noise=0.1, factor=0.2, random_state=1)\n",
        "\n",
        "#Not in use - \n",
        "X1 = X[:, 0].flatten()\n",
        "X2 = X[:, 1].flatten()\n",
        "\n",
        "\n",
        "#X3 = X1**2  #Adding Feature Square\n",
        "#X4 = X2**2  #Adding Feature Square\n",
        "#X5 = X3*X4\n",
        "\n",
        "#print(X)\n",
        "#df = pd.DataFrame(X, columns = ['X1', 'X2']) \n",
        "#df['X3'] = X3\n",
        "#df['X4'] = X4\n",
        "#df['X5'] = X5\n",
        "\n",
        "\n",
        "#X = df.as_matrix(columns=[\"X1\", \"X2\", \"X3\", \"X4\",\"X5\"])\n",
        "#print(X)\n",
        "\n",
        "#Standard Scaler\n",
        "scaler = StandardScaler()\n",
        "XS = scaler.fit_transform(X)\n",
        "\n",
        "#Polynomial Features\n",
        "from sklearn.preprocessing import PolynomialFeatures\n",
        "PolyFeatures = PolynomialFeatures(2)\n",
        "\n",
        "X_NEW = PolyFeatures.fit_transform(XS)\n",
        "\n"
      ],
      "execution_count": 0,
      "outputs": []
    },
    {
      "cell_type": "code",
      "metadata": {
        "id": "QOQd35WOu5KB",
        "colab_type": "code",
        "outputId": "237ac14a-9824-4d70-8de9-8de25a966070",
        "colab": {
          "base_uri": "https://localhost:8080/",
          "height": 68
        }
      },
      "source": [
        "\n",
        "#clf = linear_model.SGDClassifier(loss='log',alpha=0,learning_rate='adaptive',eta0=0.01,max_iter=1000)\n",
        "clf = linear_model.SGDClassifier(loss='log', random_state=123)\n",
        "#clf = linear_model.SGDClassifier(loss='log')#,penalty=None,alpha=0.00,eta0=0.0001,learning_rate='constant')\n",
        "#clf.n_iter = np.ceil(10**6 / len(Y))\n",
        "\n",
        "clf.fit(X_NEW, Y)\n",
        "predict_Y = clf.predict(X_NEW)\n",
        "#prob_Y  = clf.predict_proba(X=X) \n",
        "\n",
        "success = 1-sum(abs(predict_Y - Y))/len(Y)\n",
        "print(\"Hypothesis prediction success rate is %.2f\" %success)\n",
        "print(\"Classifier Score\",clf.score(X_NEW,Y))\n",
        "print(\"Accuracy Score\", accuracy_score(Y,predict_Y))"
      ],
      "execution_count": 19,
      "outputs": [
        {
          "output_type": "stream",
          "text": [
            "Hypothesis prediction success rate is 1.00\n",
            "Classifier Score 1.0\n",
            "Accuracy Score 1.0\n"
          ],
          "name": "stdout"
        }
      ]
    },
    {
      "cell_type": "code",
      "metadata": {
        "id": "ODv_Ncpxu5KE",
        "colab_type": "code",
        "outputId": "14d062a3-c909-40b8-fc56-562497bf0938",
        "colab": {
          "base_uri": "https://localhost:8080/",
          "height": 265
        }
      },
      "source": [
        "cmap = ListedColormap(['blue', 'red'])                    \n",
        "plt.scatter(X1,X2, c=predict_Y,marker='.', cmap=cmap)\n",
        "plt.show()"
      ],
      "execution_count": 20,
      "outputs": [
        {
          "output_type": "display_data",
          "data": {
            "image/png": "[encoded data removed]",
            "text/plain": [
              "<Figure size 432x288 with 1 Axes>"
            ]
          },
          "metadata": {
            "tags": []
          }
        }
      ]
    },
    {
      "cell_type": "markdown",
      "metadata": {
        "id": "30p38bNWwl3k",
        "colab_type": "text"
      },
      "source": [
        "# Logistic Regression - Classification"
      ]
    },
    {
      "cell_type": "code",
      "metadata": {
        "id": "snyng1mlu5KI",
        "colab_type": "code",
        "colab": {}
      },
      "source": [
        "def do_fit_logreg(classifier, X, Y):\n",
        "    classifier.fit(X, Y)\n",
        "    predict_y1 = classifier.predict(X=X)\n",
        "    success = 1-sum(abs(predict_y1 - Y))/len(Y)\n",
        "    print(\"Hypothesis prediction success rate is %.2f\" %success)\n",
        "    #print(classifier.score(X,Y))\n",
        "    print(accuracy_score(Y,predict_Y))\n",
        "    \n",
        "    cmap = ListedColormap(['blue', 'red'])                    \n",
        "    plt.scatter(X1,X2, c=predict_y1,marker='.', cmap=cmap)\n",
        "    plt.show()"
      ],
      "execution_count": 0,
      "outputs": []
    },
    {
      "cell_type": "code",
      "metadata": {
        "id": "TE6fCH37u5KK",
        "colab_type": "code",
        "colab": {}
      },
      "source": [
        "from sklearn.linear_model import LogisticRegression\n",
        "logregressor = LogisticRegression(solver=\"liblinear\")\n",
        "#do_fit_logreg(logregressor, X, Y) \n",
        "#https://sdsawtelle.github.io/blog/output/week3-andrew-ng-machine-learning-with-python.html\n"
      ],
      "execution_count": 0,
      "outputs": []
    },
    {
      "cell_type": "code",
      "metadata": {
        "id": "PZMXvxz8u5KN",
        "colab_type": "code",
        "colab": {
          "base_uri": "https://localhost:8080/",
          "height": 374
        },
        "outputId": "66a33fcc-bca5-40ba-b5e7-35a782ab3013"
      },
      "source": [
        "from matplotlib.colors import ListedColormap\n",
        "myColorMap = ListedColormap(['blue', 'red'])                    \n",
        "\n",
        "plt.figure(figsize=(8,6))\n",
        "# Set min and max values and give it some padding\n",
        "x1_min, x1_max = X[:,0].min() - 1, X[ :,0].max() + 1\n",
        "x2_min, x2_max = X[:,1].min() - 1, X[ :,1].max() + 1\n",
        "\n",
        "xx1 =np.linspace(x1_min, x1_max, 50)\n",
        "xx2 =np.linspace(x2_min, x2_max, 50)\n",
        "#Plot Prediction Data\n",
        "for i in range(len(xx1)):\n",
        "    for j in range(len(xx2)):\n",
        "        newX=(np.column_stack((xx1[i],xx2[j])))\n",
        "        #newY=predict(newX, weights) \n",
        "        \n",
        "        \n",
        "        newY = clf.predict(PolyFeatures.fit_transform(scaler.transform(newX)))\n",
        "        yColor=myColorMap(int(newY))\n",
        "        plt.scatter(xx1[i].flatten(),xx2[j].flatten(),color=yColor,alpha=0.4);\n",
        "\n",
        "#Plot Training data\n",
        "plt.scatter(X[:,0].flatten(),X[:,1].flatten(), c=Y.flatten(),  cmap=myColorMap,edgecolor='k');\n",
        "plt.show()"
      ],
      "execution_count": 23,
      "outputs": [
        {
          "output_type": "display_data",
          "data": {
            "image/png": "[encoded data removed]",
            "text/plain": [
              "<Figure size 576x432 with 1 Axes>"
            ]
          },
          "metadata": {
            "tags": []
          }
        }
      ]
    },
    {
      "cell_type": "code",
      "metadata": {
        "id": "ykx7pGJR8Ahr",
        "colab_type": "code",
        "colab": {}
      },
      "source": [
        ""
      ],
      "execution_count": 0,
      "outputs": []
    }
  ]
}