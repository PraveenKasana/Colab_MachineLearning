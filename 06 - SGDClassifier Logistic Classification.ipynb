{
  "nbformat": 4,
  "nbformat_minor": 0,
  "metadata": {
    "kernelspec": {
      "display_name": "Python 3",
      "language": "python",
      "name": "python3"
    },
    "language_info": {
      "codemirror_mode": {
        "name": "ipython",
        "version": 3
      },
      "file_extension": ".py",
      "mimetype": "text/x-python",
      "name": "python",
      "nbconvert_exporter": "python",
      "pygments_lexer": "ipython3",
      "version": "3.7.4"
    },
    "colab": {
      "name": "06 - SGDClassifier Logistic Classification.ipynb",
      "provenance": []
    }
  },
  "cells": [
    {
      "cell_type": "markdown",
      "metadata": {
        "id": "jZlkUC4fwEKh",
        "colab_type": "text"
      },
      "source": [
        "# Using SGDClassifier"
      ]
    },
    {
      "cell_type": "code",
      "metadata": {
        "id": "aAsf50rfu5J4",
        "colab_type": "code",
        "colab": {}
      },
      "source": [
        "import numpy as np \n",
        "import pandas as pd \n",
        "import matplotlib.pyplot as plt\n",
        "from matplotlib.colors import ListedColormap\n",
        "from sklearn.datasets import make_circles\n",
        "from sklearn import linear_model\n",
        "from sklearn.preprocessing import StandardScaler\n",
        "from sklearn.metrics import accuracy_score\n",
        "\n",
        "\n"
      ],
      "execution_count": 0,
      "outputs": []
    },
    {
      "cell_type": "code",
      "metadata": {
        "id": "d35Faq2gu5J9",
        "colab_type": "code",
        "colab": {
          "base_uri": "https://localhost:8080/",
          "height": 34
        },
        "outputId": "54bac929-f097-49c6-bab0-0f534255e88e"
      },
      "source": [
        "X,Y=make_circles(noise=0.1, factor=0.2, random_state=1)\n",
        "\n",
        "#Not in use - \n",
        "X1 = X[:, 0].flatten()\n",
        "X2 = X[:, 1].flatten()\n",
        "X3 = X1**2  #Adding Feature Square\n",
        "X4 = X2**2  #Adding Feature Square\n",
        "X5 = X3*X4\n",
        "\n",
        "#print(X)\n",
        "df = pd.DataFrame(X, columns = ['X1', 'X2']) \n",
        "df['X3'] = X3\n",
        "df['X4'] = X4\n",
        "df['X5'] = X5\n",
        "\n",
        "\n",
        "X = df.as_matrix(columns=[\"X1\", \"X2\", \"X3\", \"X4\",\"X5\"])\n",
        "#print(X)\n",
        "\n",
        "#Standard Scaler\n",
        "scaler = StandardScaler()\n",
        "X = scaler.fit_transform(X)\n",
        "\n",
        "#Polynomial Features\n",
        "from sklearn.preprocessing import PolynomialFeatures\n",
        "PolyFeatures = PolynomialFeatures(2)\n",
        "\n",
        "X = PolyFeatures.fit_transform(X)\n",
        "\n"
      ],
      "execution_count": 3,
      "outputs": [
        {
          "output_type": "stream",
          "text": [
            "/usr/local/lib/python3.6/dist-packages/ipykernel_launcher.py:17: FutureWarning: Method .as_matrix will be removed in a future version. Use .values instead.\n"
          ],
          "name": "stderr"
        }
      ]
    },
    {
      "cell_type": "code",
      "metadata": {
        "id": "QOQd35WOu5KB",
        "colab_type": "code",
        "colab": {
          "base_uri": "https://localhost:8080/",
          "height": 68
        },
        "outputId": "3f8f9ca4-8b94-4418-9049-f082d4abae06"
      },
      "source": [
        "\n",
        "#clf = linear_model.SGDClassifier(loss='log',alpha=0,learning_rate='adaptive',eta0=0.01,max_iter=1000)\n",
        "clf = linear_model.SGDClassifier(loss='log', random_state=123)\n",
        "#clf = linear_model.SGDClassifier(loss='log')#,penalty=None,alpha=0.00,eta0=0.0001,learning_rate='constant')\n",
        "#clf.n_iter = np.ceil(10**6 / len(Y))\n",
        "\n",
        "clf.fit(X, Y)\n",
        "predict_Y = clf.predict(X)\n",
        "prob_Y  = clf.predict_proba(X=X) \n",
        "\n",
        "success = 1-sum(abs(predict_Y - Y))/len(Y)\n",
        "print(\"Hypothesis prediction success rate is %.2f\" %success)\n",
        "print(\"Classifier Score\",clf.score(X,Y))\n",
        "print(\"Accuracy Score\", accuracy_score(Y,predict_Y))"
      ],
      "execution_count": 4,
      "outputs": [
        {
          "output_type": "stream",
          "text": [
            "Hypothesis prediction success rate is 1.00\n",
            "Classifier Score 1.0\n",
            "Accuracy Score 1.0\n"
          ],
          "name": "stdout"
        }
      ]
    },
    {
      "cell_type": "code",
      "metadata": {
        "id": "ODv_Ncpxu5KE",
        "colab_type": "code",
        "colab": {
          "base_uri": "https://localhost:8080/",
          "height": 265
        },
        "outputId": "cdacd19b-c821-4514-d2fd-eecaece15f0e"
      },
      "source": [
        "cmap = ListedColormap(['blue', 'red'])                    \n",
        "plt.scatter(X1,X2, c=predict_Y,marker='.', cmap=cmap)\n",
        "plt.show()"
      ],
      "execution_count": 5,
      "outputs": [
        {
          "output_type": "display_data",
          "data": {
            "image/png": "[encoded data removed]",
            "text/plain": [
              "<Figure size 432x288 with 1 Axes>"
            ]
          },
          "metadata": {
            "tags": []
          }
        }
      ]
    },
    {
      "cell_type": "markdown",
      "metadata": {
        "id": "30p38bNWwl3k",
        "colab_type": "text"
      },
      "source": [
        "# Logistic Regression - Classification"
      ]
    },
    {
      "cell_type": "code",
      "metadata": {
        "id": "snyng1mlu5KI",
        "colab_type": "code",
        "colab": {}
      },
      "source": [
        "def do_fit_logreg(classifier, X, Y):\n",
        "    classifier.fit(X, Y)\n",
        "    predict_y1 = classifier.predict(X=X)\n",
        "    success = 1-sum(abs(predict_y1 - Y))/len(Y)\n",
        "    print(\"Hypothesis prediction success rate is %.2f\" %success)\n",
        "    #print(classifier.score(X,Y))\n",
        "    print(accuracy_score(Y,predict_Y))\n",
        "    \n",
        "    cmap = ListedColormap(['blue', 'red'])                    \n",
        "    plt.scatter(X1,X2, c=predict_y1,marker='.', cmap=cmap)\n",
        "    plt.show()"
      ],
      "execution_count": 0,
      "outputs": []
    },
    {
      "cell_type": "code",
      "metadata": {
        "id": "TE6fCH37u5KK",
        "colab_type": "code",
        "colab": {
          "base_uri": "https://localhost:8080/",
          "height": 299
        },
        "outputId": "8ac9a5e8-952f-4d0e-9cb6-05eea4f889c0"
      },
      "source": [
        "from sklearn.linear_model import LogisticRegression\n",
        "logregressor = LogisticRegression(solver=\"liblinear\")\n",
        "do_fit_logreg(logregressor, X, Y) \n"
      ],
      "execution_count": 8,
      "outputs": [
        {
          "output_type": "stream",
          "text": [
            "Hypothesis prediction success rate is 1.00\n",
            "1.0\n"
          ],
          "name": "stdout"
        },
        {
          "output_type": "display_data",
          "data": {
            "image/png": "[encoded data removed]",
            "text/plain": [
              "<Figure size 432x288 with 1 Axes>"
            ]
          },
          "metadata": {
            "tags": []
          }
        }
      ]
    },
    {
      "cell_type": "code",
      "metadata": {
        "id": "PZMXvxz8u5KN",
        "colab_type": "code",
        "colab": {}
      },
      "source": [
        ""
      ],
      "execution_count": 0,
      "outputs": []
    }
  ]
}