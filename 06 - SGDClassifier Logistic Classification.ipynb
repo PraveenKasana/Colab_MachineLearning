{
 "cells": [
  {
   "cell_type": "code",
   "execution_count": 1,
   "metadata": {},
   "outputs": [],
   "source": [
    "import numpy as np \n",
    "import pandas as pd \n",
    "import matplotlib.pyplot as plt\n",
    "from matplotlib.colors import ListedColormap\n",
    "from sklearn.datasets import make_circles\n",
    "from sklearn import linear_model\n",
    "from sklearn.preprocessing import StandardScaler\n",
    "\n",
    "\n"
   ]
  },
  {
   "cell_type": "code",
   "execution_count": 7,
   "metadata": {},
   "outputs": [
    {
     "name": "stdout",
     "output_type": "stream",
     "text": [
      "          X1        X2        X3        X4            X5            X6\n",
      "0  -0.150995 -0.016031  0.022799  0.000257  5.859112e-06  1.171822e-05\n",
      "1   0.010808 -0.193696  0.000117  0.037518  4.382442e-06  8.764885e-06\n",
      "2  -0.465971 -1.066877  0.217129  1.138227  2.471426e-01  4.942851e-01\n",
      "3  -0.272617  0.002309  0.074320  0.000005  3.961594e-07  7.923188e-07\n",
      "4   0.319868 -0.054994  0.102316  0.003024  3.094316e-04  6.188631e-04\n",
      "..       ...       ...       ...       ...           ...           ...\n",
      "95 -0.187431 -0.112491  0.035130  0.012654  4.445443e-04  8.890887e-04\n",
      "96  0.276026  0.887306  0.076190  0.787311  5.998546e-02  1.199709e-01\n",
      "97 -0.277193 -0.200118  0.076836  0.040047  3.077089e-03  6.154178e-03\n",
      "98  0.268598  1.004521  0.072145  1.009063  7.279849e-02  1.455970e-01\n",
      "99 -0.224224 -0.904169  0.050276  0.817522  4.110211e-02  8.220423e-02\n",
      "\n",
      "[100 rows x 6 columns]\n",
      "[[-1.50994737e-01  2.56985220e-04  5.85911158e-06  1.17182232e-05]\n",
      " [ 1.08078193e-02  3.75180340e-02  4.38244244e-06  8.76488488e-06]\n",
      " [-4.65971379e-01  1.13822746e+00  2.47142561e-01  4.94285121e-01]\n",
      " [-2.72616661e-01  5.33046593e-06  3.96159394e-07  7.92318789e-07]\n",
      " [ 3.19867988e-01  3.02428745e-03  3.09431574e-04  6.18863147e-04]\n",
      " [-4.97765715e-01  5.92209187e-01  1.46732089e-01  2.93464178e-01]\n",
      " [-3.19149065e-01  7.20794621e-01  7.34173474e-02  1.46834695e-01]\n",
      " [-1.95938823e-01  8.12501727e-04  3.11935844e-05  6.23871689e-05]\n",
      " [-9.61210901e-02  2.88446071e-02  2.66502938e-04  5.33005877e-04]\n",
      " [-6.19223897e-02  2.54345213e-02  9.75256796e-05  1.95051359e-04]\n",
      " [ 8.88116591e-02  5.02490955e-02  3.96340283e-04  7.92680565e-04]\n",
      " [ 1.71810034e-01  8.55713845e-01  2.52595499e-02  5.05190998e-02]\n",
      " [ 2.21789273e-01  4.43008287e-02  2.17917910e-03  4.35835820e-03]\n",
      " [ 2.95105875e-01  5.81057809e-04  5.06028590e-05  1.01205718e-04]\n",
      " [ 2.24193607e-01  7.86388099e-03  3.95260470e-04  7.90520940e-04]\n",
      " [-4.79609855e-01  6.20982297e-01  1.42841834e-01  2.85683667e-01]\n",
      " [-9.01877510e-01  5.02616559e-01  4.08819786e-01  8.17639571e-01]\n",
      " [ 7.48276588e-01  3.13339619e-01  1.75444447e-01  3.50888893e-01]\n",
      " [-1.90887348e-01  2.26983459e-02  8.27081863e-04  1.65416373e-03]\n",
      " [ 2.31611776e-01  1.02426224e+00  5.49455385e-02  1.09891077e-01]\n",
      " [ 8.13875060e-01  5.20812255e-02  3.44982191e-02  6.89964382e-02]\n",
      " [-3.40545856e-01  2.90448293e-03  3.36837183e-04  6.73674366e-04]\n",
      " [ 1.88638446e-01  1.89716217e-02  6.75094977e-04  1.35018995e-03]\n",
      " [-2.43735214e-02  6.86841379e-03  4.08030860e-06  8.16061719e-06]\n",
      " [-7.26514085e-01  3.43758807e-01  1.81443707e-01  3.62887414e-01]\n",
      " [-3.39308525e-01  1.01626238e+00  1.17002567e-01  2.34005135e-01]\n",
      " [ 5.27182055e-02  4.59534280e-02  1.27714190e-04  2.55428379e-04]\n",
      " [-9.53930902e-01  1.11624902e-01  1.01576894e-01  2.03153787e-01]\n",
      " [ 6.92724099e-01  3.54934947e-01  1.70321454e-01  3.40642907e-01]\n",
      " [ 3.54599973e-03  8.27784079e-01  1.04086515e-05  2.08173029e-05]\n",
      " [-2.92815549e-02  1.01613563e-01  8.71244297e-05  1.74248859e-04]\n",
      " [ 3.52713872e-01  4.87759989e-03  6.06807938e-04  1.21361588e-03]\n",
      " [-2.50789760e-03  6.86127086e-03  4.31543087e-08  8.63086174e-08]\n",
      " [ 6.12968560e-02  2.48360845e-02  9.33167334e-05  1.86633467e-04]\n",
      " [ 6.61839406e-02  4.84790162e-03  2.12353313e-05  4.24706626e-05]\n",
      " [ 3.18435033e-01  9.59172344e-01  9.72609104e-02  1.94521821e-01]\n",
      " [ 9.29011887e-01  1.02357178e-01  8.83407021e-02  1.76681404e-01]\n",
      " [-5.04787009e-02  9.44664268e-03  2.40709831e-05  4.81419661e-05]\n",
      " [-1.01797423e+00  5.50114709e-02  5.70068211e-02  1.14013642e-01]\n",
      " [-5.13246369e-01  6.40223176e-01  1.68648764e-01  3.37297528e-01]\n",
      " [-1.04925545e-02  2.42007546e-02  2.66435059e-06  5.32870118e-06]\n",
      " [ 1.52221601e-01  7.17401956e-03  1.66232191e-04  3.32464382e-04]\n",
      " [-1.36276610e-01  3.58157366e-04  6.65145309e-06  1.33029062e-05]\n",
      " [-1.36639983e-01  5.02481651e-01  9.38157617e-03  1.87631523e-02]\n",
      " [-2.57283655e-01  2.69700800e-02  1.78528118e-03  3.57056237e-03]\n",
      " [ 4.18126141e-01  6.73413680e-01  1.17732557e-01  2.35465114e-01]\n",
      " [ 8.45757030e-01  4.08211926e-01  2.91996013e-01  5.83992026e-01]\n",
      " [ 1.16101441e-02  4.28699599e-02  5.77867536e-06  1.15573507e-05]\n",
      " [-8.74743466e-01  9.77488480e-03  7.47950853e-03  1.49590171e-02]\n",
      " [ 4.31556727e-02  3.14098907e-03  5.84981600e-06  1.16996320e-05]\n",
      " [ 6.54953564e-01  3.53691815e-01  1.51721116e-01  3.03442233e-01]\n",
      " [ 8.90427660e-02  2.85792425e-02  2.26593787e-04  4.53187574e-04]\n",
      " [-1.06170650e+00  9.19286131e-02  1.03623835e-01  2.07247669e-01]\n",
      " [ 9.67795542e-01  3.17338741e-01  2.97228417e-01  5.94456834e-01]\n",
      " [ 1.78306974e-01  2.30233874e-02  7.31991233e-04  1.46398247e-03]\n",
      " [ 9.71767497e-01  6.90835756e-03  6.52378358e-03  1.30475672e-02]\n",
      " [-7.40618279e-01  2.12181258e-01  1.16384695e-01  2.32769390e-01]\n",
      " [ 1.19713334e-01  1.28900544e-01  1.84731008e-03  3.69462017e-03]\n",
      " [ 9.20224900e-01  1.13955296e-01  9.64989252e-02  1.92997850e-01]\n",
      " [-1.75526624e-01  6.19371788e-04  1.90825944e-05  3.81651888e-05]\n",
      " [-8.11489102e-01  3.81383346e-01  2.51146488e-01  5.02292975e-01]\n",
      " [-9.46677277e-02  4.30266281e-02  3.85603723e-04  7.71207445e-04]\n",
      " [-2.58354063e-01  1.22603750e-02  8.18341068e-04  1.63668214e-03]\n",
      " [ 6.37714226e-01  7.11518172e-01  2.89359807e-01  5.78719615e-01]\n",
      " [ 7.51361540e-01  1.15638705e-01  6.52831560e-02  1.30566312e-01]\n",
      " [ 1.14736597e-01  5.05387190e-02  6.65316293e-04  1.33063259e-03]\n",
      " [ 5.28552407e-01  7.96920413e-01  2.22633781e-01  4.45267561e-01]\n",
      " [ 1.54415142e-01  3.02177402e-05  7.20512891e-07  1.44102578e-06]\n",
      " [ 1.02669518e+00  1.20735360e-04  1.27267504e-04  2.54535007e-04]\n",
      " [-8.81352038e-03  7.25465580e-02  5.63528180e-06  1.12705636e-05]\n",
      " [ 8.92582516e-02  4.26978813e-02  3.40175536e-04  6.80351071e-04]\n",
      " [-9.11221302e-01  2.51317807e-01  2.08675273e-01  4.17350545e-01]\n",
      " [ 7.42592361e-02  4.70979491e-03  2.59718539e-05  5.19437077e-05]\n",
      " [-2.49189974e-02  2.08135904e-02  1.29243328e-05  2.58486656e-05]\n",
      " [ 7.42189425e-01  6.27954301e-01  3.45905576e-01  6.91811153e-01]\n",
      " [ 1.06065642e-01  2.44217818e-04  2.74743103e-06  5.49486206e-06]\n",
      " [-1.01633362e-01  7.42084949e-01  7.66524794e-03  1.53304959e-02]\n",
      " [ 4.46107918e-03  2.86877853e-03  5.70922141e-08  1.14184428e-07]\n",
      " [-1.07768573e-01  2.85150026e-02  3.31175100e-04  6.62350201e-04]\n",
      " [-2.10993884e-01  6.58720084e-01  2.93251768e-02  5.86503537e-02]\n",
      " [-1.00407781e+00  3.03272196e-01  3.05750609e-01  6.11501218e-01]\n",
      " [-9.26957348e-01  1.68569960e-01  1.44843726e-01  2.89687451e-01]\n",
      " [ 2.04977910e-01  7.68088543e-01  3.22719648e-02  6.45439295e-02]\n",
      " [-6.65980821e-01  4.22925672e-01  1.87580416e-01  3.75160831e-01]\n",
      " [-9.22633947e-01  4.63206083e-01  3.94305753e-01  7.88611506e-01]\n",
      " [ 2.09402926e-01  2.27289275e-02  9.96654043e-04  1.99330809e-03]\n",
      " [-8.87147705e-01  1.63043138e-04  1.28320013e-04  2.56640025e-04]\n",
      " [ 7.21825946e-01  3.92650904e-01  2.04583959e-01  4.09167918e-01]\n",
      " [-1.25561035e-01  4.41179075e-02  6.95544113e-04  1.39108823e-03]\n",
      " [-1.24140486e-01  5.39839190e-03  8.31938635e-05  1.66387727e-04]\n",
      " [ 1.06096133e+00  7.06882390e-03  7.95694350e-03  1.59138870e-02]\n",
      " [-4.04434543e-01  7.19099909e-01  1.17621230e-01  2.35242460e-01]\n",
      " [-2.77566373e-02  3.61404006e-03  2.78436817e-06  5.56873635e-06]\n",
      " [-1.80910678e-01  2.04633640e-05  6.69738760e-07  1.33947752e-06]\n",
      " [ 8.33424935e-01  3.75507987e-01  2.60826767e-01  5.21653534e-01]\n",
      " [-1.87431017e-01  1.26541263e-02  4.44544344e-04  8.89088687e-04]\n",
      " [ 2.76025862e-01  7.87311207e-01  5.99854587e-02  1.19970917e-01]\n",
      " [-2.77193464e-01  4.00473799e-02  3.07708914e-03  6.15417828e-03]\n",
      " [ 2.68597553e-01  1.00906302e+00  7.27984938e-02  1.45596988e-01]\n",
      " [-2.24224120e-01  8.17522088e-01  4.11021134e-02  8.22042269e-02]]\n"
     ]
    },
    {
     "name": "stderr",
     "output_type": "stream",
     "text": [
      "/opt/anaconda3/lib/python3.7/site-packages/ipykernel_launcher.py:22: FutureWarning: Method .as_matrix will be removed in a future version. Use .values instead.\n"
     ]
    }
   ],
   "source": [
    "X,Y=make_circles(noise=0.1, factor=0.2, random_state=1)\n",
    "\n",
    "X1 = X[:, 0].flatten()\n",
    "X2 = X[:, 1].flatten()\n",
    "X3 = X1**2 ##Adding Feature Square\n",
    "X4 = X2**2  #Adding Feature Square\n",
    "X5 = X3*X4\n",
    "X6 = 2*X3*X4\n",
    "X7 = X5**2\n",
    "\n",
    "\n",
    "#print(X)\n",
    "df = pd.DataFrame(X, columns = ['X1', 'X2']) \n",
    "\n",
    "df['X3'] = X3\n",
    "df['X4'] = X4\n",
    "df['X5'] = X5\n",
    "df['X6'] = X6\n",
    "\n",
    "print(df)\n",
    "\n",
    "X = df.as_matrix(columns=[\"X1\", \"X2\" \"X3\", \"X4\",\"X5\",\"X6\",\"X7\"])\n",
    "print(X)\n",
    "\n",
    "\n",
    "scaler = StandardScaler()\n",
    "X = scaler.fit_transform(X)\n",
    "\n"
   ]
  },
  {
   "cell_type": "code",
   "execution_count": 8,
   "metadata": {},
   "outputs": [
    {
     "name": "stdout",
     "output_type": "stream",
     "text": [
      "Hypothesis prediction success rate is 0.98\n"
     ]
    },
    {
     "data": {
      "text/plain": [
       "0.98"
      ]
     },
     "execution_count": 8,
     "metadata": {},
     "output_type": "execute_result"
    }
   ],
   "source": [
    "\n",
    "#clf = linear_model.SGDClassifier(loss='log',alpha=0,learning_rate='adaptive',eta0=0.01,max_iter=1000)\n",
    "clf = linear_model.SGDClassifier(loss='log', random_state=123)\n",
    "#clf = linear_model.SGDClassifier(loss='log')#,penalty=None,alpha=0.00,eta0=0.0001,learning_rate='constant')\n",
    "#clf.n_iter = np.ceil(10**6 / len(Y))\n",
    "\n",
    "clf.fit(X, Y)\n",
    "\n",
    "predict_Y = clf.predict(X)\n",
    "\n",
    "prob_Y  = clf.predict_proba(X=X) \n",
    "\n",
    "success = 1-sum(abs(predict_Y - Y))/len(Y)\n",
    "print(\"Hypothesis prediction success rate is %.2f\" %success)\n",
    "\n",
    "clf.score(X,Y)"
   ]
  },
  {
   "cell_type": "code",
   "execution_count": 4,
   "metadata": {},
   "outputs": [
    {
     "data": {
      "image/png": "[encoded data removed]",
      "text/plain": [
       "<Figure size 432x288 with 1 Axes>"
      ]
     },
     "metadata": {
      "needs_background": "light"
     },
     "output_type": "display_data"
    }
   ],
   "source": [
    "cmap = ListedColormap(['blue', 'red'])                    \n",
    "plt.scatter(X1,X2, c=predict_Y,marker='.', cmap=cmap)\n",
    "#plt.scatter(errors,errors, c=errors, marker='*',s=100,edgecolors=\"black\",facecolors=\"none\")\n",
    "plt.show()"
   ]
  },
  {
   "cell_type": "code",
   "execution_count": 9,
   "metadata": {},
   "outputs": [],
   "source": [
    "def do_fit_logreg(classifier, X, Y):\n",
    "    classifier.fit(X, Y)\n",
    "    predict_y1 = classifier.predict(X=X)\n",
    "    success = 1-sum(abs(predict_y1 - Y))/len(Y)\n",
    "    print(\"Hypothesis prediction success rate is %.2f\" %success)\n",
    "    print(classifier.score(X,Y))\n",
    "    \n",
    "    cmap = ListedColormap(['blue', 'red'])                    \n",
    "    plt.scatter(X1,X2, c=predict_y1,marker='.', cmap=cmap)\n",
    "    plt.show()"
   ]
  },
  {
   "cell_type": "code",
   "execution_count": 10,
   "metadata": {},
   "outputs": [
    {
     "name": "stdout",
     "output_type": "stream",
     "text": [
      "Hypothesis prediction success rate is 0.93\n",
      "0.93\n"
     ]
    },
    {
     "data": {
      "image/png": "[encoded data removed]",
      "text/plain": [
       "<Figure size 432x288 with 1 Axes>"
      ]
     },
     "metadata": {
      "needs_background": "light"
     },
     "output_type": "display_data"
    }
   ],
   "source": [
    "from sklearn.linear_model import LogisticRegression\n",
    "logregressor = LogisticRegression(solver=\"liblinear\")\n",
    "do_fit_logreg(logregressor, X, Y) \n"
   ]
  },
  {
   "cell_type": "code",
   "execution_count": null,
   "metadata": {},
   "outputs": [],
   "source": []
  }
 ],
 "metadata": {
  "kernelspec": {
   "display_name": "Python 3",
   "language": "python",
   "name": "python3"
  },
  "language_info": {
   "codemirror_mode": {
    "name": "ipython",
    "version": 3
   },
   "file_extension": ".py",
   "mimetype": "text/x-python",
   "name": "python",
   "nbconvert_exporter": "python",
   "pygments_lexer": "ipython3",
   "version": "3.7.4"
  }
 },
 "nbformat": 4,
 "nbformat_minor": 2
}
