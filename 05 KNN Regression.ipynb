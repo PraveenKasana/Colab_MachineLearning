{
 "cells": [
  {
   "cell_type": "markdown",
   "metadata": {},
   "source": [
    "KNN Regression\n",
    "Read more at https://www.analyticsvidhya.com/blog/2018/08/k-nearest-neighbor-introduction-regression-python/"
   ]
  },
  {
   "cell_type": "code",
   "execution_count": 16,
   "metadata": {},
   "outputs": [],
   "source": [
    "import numpy as np \n",
    "import pandas as pd \n",
    "import matplotlib.pyplot as plt"
   ]
  },
  {
   "cell_type": "code",
   "execution_count": 17,
   "metadata": {},
   "outputs": [],
   "source": [
    "#dfTrain = pd.read_csv('../input/LinearRegressionDS/LinearRegressionTrainingData.csv')  \n",
    "\n",
    "import requests\n",
    "import io\n",
    "url=\"https://manmohan291.s3.ap-south-1.amazonaws.com/LinearRegressionDS/LinearRegressionTrainingData.csv\"\n",
    "s=requests.get(url).content\n",
    "dfTrain=pd.read_csv(io.StringIO(s.decode('utf-8')))"
   ]
  },
  {
   "cell_type": "code",
   "execution_count": 18,
   "metadata": {},
   "outputs": [
    {
     "data": {
      "text/html": [
       "<div>\n",
       "<style scoped>\n",
       "    .dataframe tbody tr th:only-of-type {\n",
       "        vertical-align: middle;\n",
       "    }\n",
       "\n",
       "    .dataframe tbody tr th {\n",
       "        vertical-align: top;\n",
       "    }\n",
       "\n",
       "    .dataframe thead th {\n",
       "        text-align: right;\n",
       "    }\n",
       "</style>\n",
       "<table border=\"1\" class=\"dataframe\">\n",
       "  <thead>\n",
       "    <tr style=\"text-align: right;\">\n",
       "      <th></th>\n",
       "      <th>X</th>\n",
       "      <th>Y</th>\n",
       "    </tr>\n",
       "  </thead>\n",
       "  <tbody>\n",
       "    <tr>\n",
       "      <td>0</td>\n",
       "      <td>-15.936758</td>\n",
       "      <td>2.134311</td>\n",
       "    </tr>\n",
       "    <tr>\n",
       "      <td>1</td>\n",
       "      <td>-29.152979</td>\n",
       "      <td>1.173257</td>\n",
       "    </tr>\n",
       "    <tr>\n",
       "      <td>2</td>\n",
       "      <td>36.189549</td>\n",
       "      <td>34.359109</td>\n",
       "    </tr>\n",
       "    <tr>\n",
       "      <td>3</td>\n",
       "      <td>37.492187</td>\n",
       "      <td>36.837955</td>\n",
       "    </tr>\n",
       "    <tr>\n",
       "      <td>4</td>\n",
       "      <td>-48.058829</td>\n",
       "      <td>2.808965</td>\n",
       "    </tr>\n",
       "  </tbody>\n",
       "</table>\n",
       "</div>"
      ],
      "text/plain": [
       "           X          Y\n",
       "0 -15.936758   2.134311\n",
       "1 -29.152979   1.173257\n",
       "2  36.189549  34.359109\n",
       "3  37.492187  36.837955\n",
       "4 -48.058829   2.808965"
      ]
     },
     "execution_count": 18,
     "metadata": {},
     "output_type": "execute_result"
    }
   ],
   "source": [
    "dfTrain.head()"
   ]
  },
  {
   "cell_type": "code",
   "execution_count": 19,
   "metadata": {},
   "outputs": [
    {
     "data": {
      "image/png": "[encoded data removed]",
      "text/plain": [
       "<Figure size 432x288 with 1 Axes>"
      ]
     },
     "metadata": {
      "needs_background": "light"
     },
     "output_type": "display_data"
    }
   ],
   "source": [
    "dfTrain.plot(x='X',y='Y',kind='scatter')\n",
    "plt.show()"
   ]
  },
  {
   "cell_type": "code",
   "execution_count": 30,
   "metadata": {},
   "outputs": [],
   "source": [
    "#import sklearn.linear_model  as LR\n",
    "import sklearn.neighbors as KNN\n",
    "\n",
    "df_Features=dfTrain.iloc[:,0:1]\n",
    "df_Label=dfTrain.iloc[:,1:2]\n",
    "\n",
    "X=np.array([[1],[2],[3]])\n",
    "Y=np.array([[1],[2],[2]])\n",
    "K=3\n",
    "RegObj=KNN.KNeighborsRegressor(n_neighbors = K).fit(X,Y)"
   ]
  },
  {
   "cell_type": "code",
   "execution_count": 31,
   "metadata": {},
   "outputs": [
    {
     "data": {
      "text/plain": [
       "array([[1.66666667]])"
      ]
     },
     "execution_count": 31,
     "metadata": {},
     "output_type": "execute_result"
    }
   ],
   "source": [
    "RegObj.predict([[5]])"
   ]
  },
  {
   "cell_type": "code",
   "execution_count": 22,
   "metadata": {},
   "outputs": [
    {
     "data": {
      "text/plain": [
       "(3, 1)"
      ]
     },
     "execution_count": 22,
     "metadata": {},
     "output_type": "execute_result"
    }
   ],
   "source": [
    "X.shape"
   ]
  },
  {
   "cell_type": "code",
   "execution_count": 23,
   "metadata": {},
   "outputs": [
    {
     "data": {
      "image/png": "[encoded data removed]",
      "text/plain": [
       "<Figure size 432x288 with 1 Axes>"
      ]
     },
     "metadata": {
      "needs_background": "light"
     },
     "output_type": "display_data"
    }
   ],
   "source": [
    "#plotting\n",
    "plt.scatter(X,Y) \n",
    "x_min, x_max = X[:, 0].min()-1 , X[:, 0].max()+10 \n",
    "u = np.linspace(x_min, x_max, 100)\n",
    "\n",
    "u.shape=(len(u),1)\n",
    "\n",
    "newx=u\n",
    "newy=RegObj.predict(newx)\n",
    "\n",
    "plt.plot(newx,newy,color='r') \n",
    "plt.show()"
   ]
  },
  {
   "cell_type": "code",
   "execution_count": 24,
   "metadata": {},
   "outputs": [
    {
     "name": "stdout",
     "output_type": "stream",
     "text": [
      "RMSE=0.47\n"
     ]
    }
   ],
   "source": [
    "from sklearn.metrics import mean_squared_error\n",
    "pY=RegObj.predict(X)\n",
    "mse=mean_squared_error(Y, pY)\n",
    "rmse=np.sqrt(mse)\n",
    "print(\"RMSE={0:.2f}\".format(rmse))"
   ]
  },
  {
   "cell_type": "markdown",
   "metadata": {},
   "source": [
    "# Implement KNN your own\n",
    "KNN Regression Algorithm\n",
    "Step1: Choose K neighbors using Distance function\n",
    "Step2: Average K neighbours\n",
    "Distance Functions (Continuous Data)\n",
    "Ecludian Distance $=  \\displaystyle \\sqrt{\\sum _{i=1}^n (X_i- Y_i)^2}$\n",
    "\n",
    "Try out prediction for example X=[[0]]"
   ]
  },
  {
   "cell_type": "code",
   "execution_count": 25,
   "metadata": {},
   "outputs": [],
   "source": [
    "def My_KNN_Predict(newX,X,Y,K):\n",
    "    trainBatchSize=X.shape[0]\n",
    "    predictBatchSize=newX.shape[0]\n",
    "    pY=np.zeros((newX.shape[0],1))\n",
    "\n",
    "    distanceList=np.zeros(Y.shape)\n",
    "\n",
    "    for i in range(predictBatchSize): \n",
    "\n",
    "        #Step1:Calculate Distances\n",
    "        distanceValues=np.linalg.norm(newX[i,:]-X,axis=1)\n",
    "        distanceList=np.column_stack((distanceValues,Y))\n",
    "\n",
    "        #Step2: Sort Distances\n",
    "        sortedList=distanceList[distanceList[:,0].argsort()]\n",
    "\n",
    "\n",
    "        #Step3: Pick top K\n",
    "        topKList=sortedList[:K,:]\n",
    "\n",
    "\n",
    "\n",
    "        #Step4: GetMost mean of Y among top K    \n",
    "        predY=topKList[:,1].mean()\n",
    "\n",
    "        pY[i]=predY\n",
    "            \n",
    "                    \n",
    "    \n",
    "    return pY"
   ]
  },
  {
   "cell_type": "code",
   "execution_count": 26,
   "metadata": {},
   "outputs": [
    {
     "data": {
      "text/plain": [
       "array([[1.66666667]])"
      ]
     },
     "execution_count": 26,
     "metadata": {},
     "output_type": "execute_result"
    }
   ],
   "source": [
    "#Predict\n",
    "My_KNN_Predict(np.array([[5]]),X,Y,K)"
   ]
  },
  {
   "cell_type": "code",
   "execution_count": 32,
   "metadata": {},
   "outputs": [
    {
     "data": {
      "image/png": "[encoded data removed]",
      "text/plain": [
       "<Figure size 432x288 with 1 Axes>"
      ]
     },
     "metadata": {
      "needs_background": "light"
     },
     "output_type": "display_data"
    }
   ],
   "source": [
    "#plotting\n",
    "plt.scatter(X,Y) \n",
    "x_min, x_max = X[:, 0].min()-1 , X[:, 0].max()+10 \n",
    "u = np.linspace(x_min, x_max, 100)\n",
    "\n",
    "u.shape=(len(u),1)\n",
    "newx=u\n",
    "newy=My_KNN_Predict(newx,X,Y,K)\n",
    "\n",
    "plt.plot(newx,newy,color='r') \n",
    "plt.show()"
   ]
  },
  {
   "cell_type": "code",
   "execution_count": 33,
   "metadata": {},
   "outputs": [],
   "source": [
    "def getRMSE(aY,pY):\n",
    "    Error=aY- pY\n",
    "    ErrorSqr=Error**2\n",
    "    MSE=ErrorSqr.mean()\n",
    "    RMSE=np.sqrt(MSE)\n",
    "    return RMSE"
   ]
  },
  {
   "cell_type": "code",
   "execution_count": 34,
   "metadata": {},
   "outputs": [
    {
     "name": "stdout",
     "output_type": "stream",
     "text": [
      "RMSE=0.47\n"
     ]
    }
   ],
   "source": [
    "#RMSE on training Data\n",
    "pY=My_KNN_Predict(X,X,Y,K)\n",
    "rmse=getRMSE(Y, pY)\n",
    "print(\"RMSE={0:.2f}\".format(rmse))"
   ]
  },
  {
   "cell_type": "code",
   "execution_count": null,
   "metadata": {},
   "outputs": [],
   "source": []
  }
 ],
 "metadata": {
  "kernelspec": {
   "display_name": "Python 3",
   "language": "python",
   "name": "python3"
  },
  "language_info": {
   "codemirror_mode": {
    "name": "ipython",
    "version": 3
   },
   "file_extension": ".py",
   "mimetype": "text/x-python",
   "name": "python",
   "nbconvert_exporter": "python",
   "pygments_lexer": "ipython3",
   "version": "3.7.4"
  }
 },
 "nbformat": 4,
 "nbformat_minor": 2
}
